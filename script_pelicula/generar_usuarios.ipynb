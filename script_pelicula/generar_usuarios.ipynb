{
 "cells": [
  {
   "cell_type": "markdown",
   "id": "abb94974",
   "metadata": {},
   "source": [
    "# Generar Usuarios"
   ]
  },
  {
   "cell_type": "code",
   "execution_count": 5,
   "id": "565d1490",
   "metadata": {},
   "outputs": [],
   "source": [
    "import pandas as pd\n",
    "import missingno as msno\n",
    "import numpy as np\n",
    "from faker import Faker\n",
    "import random"
   ]
  },
  {
   "cell_type": "code",
   "execution_count": 13,
   "id": "3015a9f1",
   "metadata": {},
   "outputs": [],
   "source": [
    "fake = Faker('en_US')  # o 'es_ES' "
   ]
  },
  {
   "cell_type": "code",
   "execution_count": 14,
   "id": "c8f2e810",
   "metadata": {},
   "outputs": [],
   "source": [
    "rango = range(1,138494)"
   ]
  },
  {
   "cell_type": "code",
   "execution_count": 15,
   "id": "ad024b26",
   "metadata": {},
   "outputs": [],
   "source": [
    "data = []\n",
    "userid = 0\n",
    "for i in rango:\n",
    "    nombre = fake.name()\n",
    "    email = nombre.lower().replace(\" \", \".\") + \"@ejemplo.com\"\n",
    "    edad = random.randint(18, 80)\n",
    "    genero = random.choice(['M', 'F'])\n",
    "    pais = fake.country()\n",
    "    \n",
    "    fila = [i, nombre, email, edad, genero, pais]\n",
    "    data.append(fila)"
   ]
  },
  {
   "cell_type": "code",
   "execution_count": 16,
   "id": "beda634d",
   "metadata": {},
   "outputs": [],
   "source": [
    "columnas = ['userid', 'nombre', 'email', 'edad', 'genero', 'pais'] "
   ]
  },
  {
   "cell_type": "code",
   "execution_count": 17,
   "id": "fc011076",
   "metadata": {},
   "outputs": [],
   "source": [
    "df = pd.DataFrame(data, columns=columnas)"
   ]
  },
  {
   "cell_type": "code",
   "execution_count": 18,
   "id": "9396ea58",
   "metadata": {},
   "outputs": [
    {
     "data": {
      "text/html": [
       "<div>\n",
       "<style scoped>\n",
       "    .dataframe tbody tr th:only-of-type {\n",
       "        vertical-align: middle;\n",
       "    }\n",
       "\n",
       "    .dataframe tbody tr th {\n",
       "        vertical-align: top;\n",
       "    }\n",
       "\n",
       "    .dataframe thead th {\n",
       "        text-align: right;\n",
       "    }\n",
       "</style>\n",
       "<table border=\"1\" class=\"dataframe\">\n",
       "  <thead>\n",
       "    <tr style=\"text-align: right;\">\n",
       "      <th></th>\n",
       "      <th>userid</th>\n",
       "      <th>nombre</th>\n",
       "      <th>email</th>\n",
       "      <th>edad</th>\n",
       "      <th>genero</th>\n",
       "      <th>pais</th>\n",
       "    </tr>\n",
       "  </thead>\n",
       "  <tbody>\n",
       "    <tr>\n",
       "      <th>0</th>\n",
       "      <td>1</td>\n",
       "      <td>John Lloyd</td>\n",
       "      <td>john.lloyd@ejemplo.com</td>\n",
       "      <td>24</td>\n",
       "      <td>F</td>\n",
       "      <td>Honduras</td>\n",
       "    </tr>\n",
       "    <tr>\n",
       "      <th>1</th>\n",
       "      <td>2</td>\n",
       "      <td>Tracy Fields</td>\n",
       "      <td>tracy.fields@ejemplo.com</td>\n",
       "      <td>29</td>\n",
       "      <td>M</td>\n",
       "      <td>Marshall Islands</td>\n",
       "    </tr>\n",
       "    <tr>\n",
       "      <th>2</th>\n",
       "      <td>3</td>\n",
       "      <td>Brandon Carter</td>\n",
       "      <td>brandon.carter@ejemplo.com</td>\n",
       "      <td>31</td>\n",
       "      <td>M</td>\n",
       "      <td>Hong Kong</td>\n",
       "    </tr>\n",
       "    <tr>\n",
       "      <th>3</th>\n",
       "      <td>4</td>\n",
       "      <td>Brenda Richardson</td>\n",
       "      <td>brenda.richardson@ejemplo.com</td>\n",
       "      <td>79</td>\n",
       "      <td>M</td>\n",
       "      <td>Bahrain</td>\n",
       "    </tr>\n",
       "    <tr>\n",
       "      <th>4</th>\n",
       "      <td>5</td>\n",
       "      <td>Thomas Velez</td>\n",
       "      <td>thomas.velez@ejemplo.com</td>\n",
       "      <td>26</td>\n",
       "      <td>M</td>\n",
       "      <td>Ecuador</td>\n",
       "    </tr>\n",
       "  </tbody>\n",
       "</table>\n",
       "</div>"
      ],
      "text/plain": [
       "   userid             nombre                          email  edad genero  \\\n",
       "0       1         John Lloyd         john.lloyd@ejemplo.com    24      F   \n",
       "1       2       Tracy Fields       tracy.fields@ejemplo.com    29      M   \n",
       "2       3     Brandon Carter     brandon.carter@ejemplo.com    31      M   \n",
       "3       4  Brenda Richardson  brenda.richardson@ejemplo.com    79      M   \n",
       "4       5       Thomas Velez       thomas.velez@ejemplo.com    26      M   \n",
       "\n",
       "               pais  \n",
       "0          Honduras  \n",
       "1  Marshall Islands  \n",
       "2         Hong Kong  \n",
       "3           Bahrain  \n",
       "4           Ecuador  "
      ]
     },
     "execution_count": 18,
     "metadata": {},
     "output_type": "execute_result"
    }
   ],
   "source": [
    "df.head()"
   ]
  },
  {
   "cell_type": "code",
   "execution_count": 19,
   "id": "7676c20c",
   "metadata": {},
   "outputs": [],
   "source": [
    "# Guardado de tabla dimension usuarios temporal\n",
    "df.to_csv(r\"../data/d_usuarios.csv\")"
   ]
  }
 ],
 "metadata": {
  "kernelspec": {
   "display_name": "venv (3.13.7)",
   "language": "python",
   "name": "python3"
  },
  "language_info": {
   "codemirror_mode": {
    "name": "ipython",
    "version": 3
   },
   "file_extension": ".py",
   "mimetype": "text/x-python",
   "name": "python",
   "nbconvert_exporter": "python",
   "pygments_lexer": "ipython3",
   "version": "3.13.7"
  }
 },
 "nbformat": 4,
 "nbformat_minor": 5
}
