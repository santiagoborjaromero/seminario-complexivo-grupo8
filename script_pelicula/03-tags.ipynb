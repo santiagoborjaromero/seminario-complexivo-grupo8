{
 "cells": [
  {
   "cell_type": "markdown",
   "id": "2c9719bc",
   "metadata": {},
   "source": [
    "# Tags"
   ]
  },
  {
   "cell_type": "code",
   "execution_count": 55,
   "id": "51f0dac0",
   "metadata": {},
   "outputs": [],
   "source": [
    "import pandas as pd\n",
    "import missingno as msno\n",
    "import numpy as np"
   ]
  },
  {
   "cell_type": "code",
   "execution_count": 56,
   "id": "521db1e7",
   "metadata": {},
   "outputs": [],
   "source": [
    "df = pd.read_csv(r\"../data/tag.csv\")"
   ]
  },
  {
   "cell_type": "code",
   "execution_count": 57,
   "id": "0b436c71",
   "metadata": {},
   "outputs": [
    {
     "data": {
      "text/html": [
       "<div>\n",
       "<style scoped>\n",
       "    .dataframe tbody tr th:only-of-type {\n",
       "        vertical-align: middle;\n",
       "    }\n",
       "\n",
       "    .dataframe tbody tr th {\n",
       "        vertical-align: top;\n",
       "    }\n",
       "\n",
       "    .dataframe thead th {\n",
       "        text-align: right;\n",
       "    }\n",
       "</style>\n",
       "<table border=\"1\" class=\"dataframe\">\n",
       "  <thead>\n",
       "    <tr style=\"text-align: right;\">\n",
       "      <th></th>\n",
       "      <th>userid</th>\n",
       "      <th>movieid</th>\n",
       "      <th>tag</th>\n",
       "      <th>timestamp</th>\n",
       "    </tr>\n",
       "  </thead>\n",
       "  <tbody>\n",
       "    <tr>\n",
       "      <th>0</th>\n",
       "      <td>18</td>\n",
       "      <td>4141</td>\n",
       "      <td>Mark Waters</td>\n",
       "      <td>2009-04-24 18:19:40</td>\n",
       "    </tr>\n",
       "    <tr>\n",
       "      <th>1</th>\n",
       "      <td>65</td>\n",
       "      <td>208</td>\n",
       "      <td>dark hero</td>\n",
       "      <td>2013-05-10 01:41:18</td>\n",
       "    </tr>\n",
       "    <tr>\n",
       "      <th>2</th>\n",
       "      <td>65</td>\n",
       "      <td>353</td>\n",
       "      <td>dark hero</td>\n",
       "      <td>2013-05-10 01:41:19</td>\n",
       "    </tr>\n",
       "    <tr>\n",
       "      <th>3</th>\n",
       "      <td>65</td>\n",
       "      <td>521</td>\n",
       "      <td>noir thriller</td>\n",
       "      <td>2013-05-10 01:39:43</td>\n",
       "    </tr>\n",
       "    <tr>\n",
       "      <th>4</th>\n",
       "      <td>65</td>\n",
       "      <td>592</td>\n",
       "      <td>dark hero</td>\n",
       "      <td>2013-05-10 01:41:18</td>\n",
       "    </tr>\n",
       "  </tbody>\n",
       "</table>\n",
       "</div>"
      ],
      "text/plain": [
       "   userid  movieid            tag            timestamp\n",
       "0      18     4141    Mark Waters  2009-04-24 18:19:40\n",
       "1      65      208      dark hero  2013-05-10 01:41:18\n",
       "2      65      353      dark hero  2013-05-10 01:41:19\n",
       "3      65      521  noir thriller  2013-05-10 01:39:43\n",
       "4      65      592      dark hero  2013-05-10 01:41:18"
      ]
     },
     "execution_count": 57,
     "metadata": {},
     "output_type": "execute_result"
    }
   ],
   "source": [
    "df.columns = df.columns.str.lower() # en minuscular\n",
    "df.columns = df.columns.str.strip() # quitar espacios en blanco\n",
    "df.head()"
   ]
  },
  {
   "cell_type": "code",
   "execution_count": 58,
   "id": "0308a4ea",
   "metadata": {},
   "outputs": [
    {
     "data": {
      "text/plain": [
       "465564"
      ]
     },
     "execution_count": 58,
     "metadata": {},
     "output_type": "execute_result"
    }
   ],
   "source": [
    "# Total de registros\n",
    "len(df)"
   ]
  },
  {
   "cell_type": "code",
   "execution_count": 59,
   "id": "33bcb9de",
   "metadata": {},
   "outputs": [
    {
     "data": {
      "text/plain": [
       "userid        0\n",
       "movieid       0\n",
       "tag          16\n",
       "timestamp     0\n",
       "dtype: int64"
      ]
     },
     "execution_count": 59,
     "metadata": {},
     "output_type": "execute_result"
    }
   ],
   "source": [
    "# Verificamos que no haya nulos\n",
    "df.isna().sum()"
   ]
  },
  {
   "cell_type": "code",
   "execution_count": 60,
   "id": "10908f2a",
   "metadata": {},
   "outputs": [],
   "source": [
    "# Cambiar el tipo de datos `object` de timestamp a datetime\n",
    "df[\"timestamp\"] = pd.to_datetime(df[\"timestamp\"])"
   ]
  },
  {
   "cell_type": "code",
   "execution_count": 61,
   "id": "2fb00fb8",
   "metadata": {},
   "outputs": [
    {
     "name": "stdout",
     "output_type": "stream",
     "text": [
      "<class 'pandas.core.frame.DataFrame'>\n",
      "RangeIndex: 465564 entries, 0 to 465563\n",
      "Data columns (total 4 columns):\n",
      " #   Column     Non-Null Count   Dtype         \n",
      "---  ------     --------------   -----         \n",
      " 0   userid     465564 non-null  int64         \n",
      " 1   movieid    465564 non-null  int64         \n",
      " 2   tag        465548 non-null  object        \n",
      " 3   timestamp  465564 non-null  datetime64[ns]\n",
      "dtypes: datetime64[ns](1), int64(2), object(1)\n",
      "memory usage: 14.2+ MB\n"
     ]
    }
   ],
   "source": [
    "df.info()"
   ]
  },
  {
   "cell_type": "code",
   "execution_count": 62,
   "id": "2b4e8237",
   "metadata": {},
   "outputs": [
    {
     "data": {
      "text/html": [
       "<div>\n",
       "<style scoped>\n",
       "    .dataframe tbody tr th:only-of-type {\n",
       "        vertical-align: middle;\n",
       "    }\n",
       "\n",
       "    .dataframe tbody tr th {\n",
       "        vertical-align: top;\n",
       "    }\n",
       "\n",
       "    .dataframe thead th {\n",
       "        text-align: right;\n",
       "    }\n",
       "</style>\n",
       "<table border=\"1\" class=\"dataframe\">\n",
       "  <thead>\n",
       "    <tr style=\"text-align: right;\">\n",
       "      <th></th>\n",
       "      <th>userid</th>\n",
       "      <th>movieid</th>\n",
       "      <th>tag</th>\n",
       "      <th>timestamp</th>\n",
       "    </tr>\n",
       "  </thead>\n",
       "  <tbody>\n",
       "    <tr>\n",
       "      <th>373276</th>\n",
       "      <td>116460</td>\n",
       "      <td>123</td>\n",
       "      <td>NaN</td>\n",
       "      <td>2008-01-04 12:47:47</td>\n",
       "    </tr>\n",
       "    <tr>\n",
       "      <th>373277</th>\n",
       "      <td>116460</td>\n",
       "      <td>346</td>\n",
       "      <td>NaN</td>\n",
       "      <td>2008-01-04 13:05:46</td>\n",
       "    </tr>\n",
       "    <tr>\n",
       "      <th>373281</th>\n",
       "      <td>116460</td>\n",
       "      <td>1184</td>\n",
       "      <td>NaN</td>\n",
       "      <td>2008-01-04 13:11:01</td>\n",
       "    </tr>\n",
       "    <tr>\n",
       "      <th>373288</th>\n",
       "      <td>116460</td>\n",
       "      <td>1785</td>\n",
       "      <td>NaN</td>\n",
       "      <td>2008-01-04 13:06:46</td>\n",
       "    </tr>\n",
       "    <tr>\n",
       "      <th>373289</th>\n",
       "      <td>116460</td>\n",
       "      <td>2194</td>\n",
       "      <td>NaN</td>\n",
       "      <td>2008-01-04 12:44:37</td>\n",
       "    </tr>\n",
       "    <tr>\n",
       "      <th>373291</th>\n",
       "      <td>116460</td>\n",
       "      <td>2691</td>\n",
       "      <td>NaN</td>\n",
       "      <td>2008-01-04 12:50:02</td>\n",
       "    </tr>\n",
       "    <tr>\n",
       "      <th>373299</th>\n",
       "      <td>116460</td>\n",
       "      <td>4103</td>\n",
       "      <td>NaN</td>\n",
       "      <td>2008-01-04 13:05:20</td>\n",
       "    </tr>\n",
       "    <tr>\n",
       "      <th>373301</th>\n",
       "      <td>116460</td>\n",
       "      <td>4473</td>\n",
       "      <td>NaN</td>\n",
       "      <td>2008-01-04 12:50:40</td>\n",
       "    </tr>\n",
       "    <tr>\n",
       "      <th>373303</th>\n",
       "      <td>116460</td>\n",
       "      <td>4616</td>\n",
       "      <td>NaN</td>\n",
       "      <td>2008-01-04 13:14:01</td>\n",
       "    </tr>\n",
       "    <tr>\n",
       "      <th>373319</th>\n",
       "      <td>116460</td>\n",
       "      <td>7624</td>\n",
       "      <td>NaN</td>\n",
       "      <td>2008-01-04 13:11:06</td>\n",
       "    </tr>\n",
       "    <tr>\n",
       "      <th>373325</th>\n",
       "      <td>116460</td>\n",
       "      <td>8898</td>\n",
       "      <td>NaN</td>\n",
       "      <td>2008-01-04 12:45:57</td>\n",
       "    </tr>\n",
       "    <tr>\n",
       "      <th>373332</th>\n",
       "      <td>116460</td>\n",
       "      <td>32460</td>\n",
       "      <td>NaN</td>\n",
       "      <td>2008-01-04 12:48:21</td>\n",
       "    </tr>\n",
       "    <tr>\n",
       "      <th>373334</th>\n",
       "      <td>116460</td>\n",
       "      <td>33826</td>\n",
       "      <td>NaN</td>\n",
       "      <td>2008-01-04 12:45:03</td>\n",
       "    </tr>\n",
       "    <tr>\n",
       "      <th>373339</th>\n",
       "      <td>116460</td>\n",
       "      <td>36537</td>\n",
       "      <td>NaN</td>\n",
       "      <td>2008-01-04 12:45:36</td>\n",
       "    </tr>\n",
       "    <tr>\n",
       "      <th>373340</th>\n",
       "      <td>116460</td>\n",
       "      <td>55805</td>\n",
       "      <td>NaN</td>\n",
       "      <td>2008-01-04 12:49:01</td>\n",
       "    </tr>\n",
       "    <tr>\n",
       "      <th>454615</th>\n",
       "      <td>133634</td>\n",
       "      <td>33826</td>\n",
       "      <td>NaN</td>\n",
       "      <td>2008-09-15 03:55:08</td>\n",
       "    </tr>\n",
       "  </tbody>\n",
       "</table>\n",
       "</div>"
      ],
      "text/plain": [
       "        userid  movieid  tag           timestamp\n",
       "373276  116460      123  NaN 2008-01-04 12:47:47\n",
       "373277  116460      346  NaN 2008-01-04 13:05:46\n",
       "373281  116460     1184  NaN 2008-01-04 13:11:01\n",
       "373288  116460     1785  NaN 2008-01-04 13:06:46\n",
       "373289  116460     2194  NaN 2008-01-04 12:44:37\n",
       "373291  116460     2691  NaN 2008-01-04 12:50:02\n",
       "373299  116460     4103  NaN 2008-01-04 13:05:20\n",
       "373301  116460     4473  NaN 2008-01-04 12:50:40\n",
       "373303  116460     4616  NaN 2008-01-04 13:14:01\n",
       "373319  116460     7624  NaN 2008-01-04 13:11:06\n",
       "373325  116460     8898  NaN 2008-01-04 12:45:57\n",
       "373332  116460    32460  NaN 2008-01-04 12:48:21\n",
       "373334  116460    33826  NaN 2008-01-04 12:45:03\n",
       "373339  116460    36537  NaN 2008-01-04 12:45:36\n",
       "373340  116460    55805  NaN 2008-01-04 12:49:01\n",
       "454615  133634    33826  NaN 2008-09-15 03:55:08"
      ]
     },
     "execution_count": 62,
     "metadata": {},
     "output_type": "execute_result"
    }
   ],
   "source": [
    "# consultar columnas de valores ausentes en columnas dadas\n",
    "df[df.tag.isna()]"
   ]
  },
  {
   "cell_type": "code",
   "execution_count": 63,
   "id": "57f89035",
   "metadata": {},
   "outputs": [],
   "source": [
    "# Eliminamos los nulos\n",
    "df = df.dropna(subset=[\"tag\"], how=\"all\")"
   ]
  },
  {
   "cell_type": "code",
   "execution_count": 64,
   "id": "51321396",
   "metadata": {},
   "outputs": [
    {
     "data": {
      "text/plain": [
       "userid       0\n",
       "movieid      0\n",
       "tag          0\n",
       "timestamp    0\n",
       "dtype: int64"
      ]
     },
     "execution_count": 64,
     "metadata": {},
     "output_type": "execute_result"
    }
   ],
   "source": [
    "# Verificamos que no haya nulos\n",
    "df.isna().sum()"
   ]
  },
  {
   "cell_type": "code",
   "execution_count": 65,
   "id": "b338e67f",
   "metadata": {},
   "outputs": [
    {
     "data": {
      "text/plain": [
       "465548"
      ]
     },
     "execution_count": 65,
     "metadata": {},
     "output_type": "execute_result"
    }
   ],
   "source": [
    "len(df)"
   ]
  },
  {
   "cell_type": "code",
   "execution_count": 66,
   "id": "fa171cd3",
   "metadata": {},
   "outputs": [
    {
     "data": {
      "text/plain": [
       "16"
      ]
     },
     "execution_count": 66,
     "metadata": {},
     "output_type": "execute_result"
    }
   ],
   "source": [
    "465564 - 465548"
   ]
  },
  {
   "cell_type": "code",
   "execution_count": 67,
   "id": "3fd85b51",
   "metadata": {},
   "outputs": [
    {
     "data": {
      "text/html": [
       "<div>\n",
       "<style scoped>\n",
       "    .dataframe tbody tr th:only-of-type {\n",
       "        vertical-align: middle;\n",
       "    }\n",
       "\n",
       "    .dataframe tbody tr th {\n",
       "        vertical-align: top;\n",
       "    }\n",
       "\n",
       "    .dataframe thead th {\n",
       "        text-align: right;\n",
       "    }\n",
       "</style>\n",
       "<table border=\"1\" class=\"dataframe\">\n",
       "  <thead>\n",
       "    <tr style=\"text-align: right;\">\n",
       "      <th></th>\n",
       "      <th>userid</th>\n",
       "      <th>movieid</th>\n",
       "      <th>tag</th>\n",
       "      <th>timestamp</th>\n",
       "    </tr>\n",
       "  </thead>\n",
       "  <tbody>\n",
       "    <tr>\n",
       "      <th>0</th>\n",
       "      <td>18</td>\n",
       "      <td>4141</td>\n",
       "      <td>Mark Waters</td>\n",
       "      <td>2009-04-24 18:19:40</td>\n",
       "    </tr>\n",
       "    <tr>\n",
       "      <th>1</th>\n",
       "      <td>65</td>\n",
       "      <td>208</td>\n",
       "      <td>dark hero</td>\n",
       "      <td>2013-05-10 01:41:18</td>\n",
       "    </tr>\n",
       "    <tr>\n",
       "      <th>2</th>\n",
       "      <td>65</td>\n",
       "      <td>353</td>\n",
       "      <td>dark hero</td>\n",
       "      <td>2013-05-10 01:41:19</td>\n",
       "    </tr>\n",
       "    <tr>\n",
       "      <th>3</th>\n",
       "      <td>65</td>\n",
       "      <td>521</td>\n",
       "      <td>noir thriller</td>\n",
       "      <td>2013-05-10 01:39:43</td>\n",
       "    </tr>\n",
       "    <tr>\n",
       "      <th>4</th>\n",
       "      <td>65</td>\n",
       "      <td>592</td>\n",
       "      <td>dark hero</td>\n",
       "      <td>2013-05-10 01:41:18</td>\n",
       "    </tr>\n",
       "    <tr>\n",
       "      <th>...</th>\n",
       "      <td>...</td>\n",
       "      <td>...</td>\n",
       "      <td>...</td>\n",
       "      <td>...</td>\n",
       "    </tr>\n",
       "    <tr>\n",
       "      <th>465559</th>\n",
       "      <td>138446</td>\n",
       "      <td>55999</td>\n",
       "      <td>dragged</td>\n",
       "      <td>2013-01-23 23:29:32</td>\n",
       "    </tr>\n",
       "    <tr>\n",
       "      <th>465560</th>\n",
       "      <td>138446</td>\n",
       "      <td>55999</td>\n",
       "      <td>Jason Bateman</td>\n",
       "      <td>2013-01-23 23:29:38</td>\n",
       "    </tr>\n",
       "    <tr>\n",
       "      <th>465561</th>\n",
       "      <td>138446</td>\n",
       "      <td>55999</td>\n",
       "      <td>quirky</td>\n",
       "      <td>2013-01-23 23:29:38</td>\n",
       "    </tr>\n",
       "    <tr>\n",
       "      <th>465562</th>\n",
       "      <td>138446</td>\n",
       "      <td>55999</td>\n",
       "      <td>sad</td>\n",
       "      <td>2013-01-23 23:29:32</td>\n",
       "    </tr>\n",
       "    <tr>\n",
       "      <th>465563</th>\n",
       "      <td>138472</td>\n",
       "      <td>923</td>\n",
       "      <td>rise to power</td>\n",
       "      <td>2007-11-02 21:12:47</td>\n",
       "    </tr>\n",
       "  </tbody>\n",
       "</table>\n",
       "<p>465030 rows × 4 columns</p>\n",
       "</div>"
      ],
      "text/plain": [
       "        userid  movieid            tag           timestamp\n",
       "0           18     4141    Mark Waters 2009-04-24 18:19:40\n",
       "1           65      208      dark hero 2013-05-10 01:41:18\n",
       "2           65      353      dark hero 2013-05-10 01:41:19\n",
       "3           65      521  noir thriller 2013-05-10 01:39:43\n",
       "4           65      592      dark hero 2013-05-10 01:41:18\n",
       "...        ...      ...            ...                 ...\n",
       "465559  138446    55999        dragged 2013-01-23 23:29:32\n",
       "465560  138446    55999  Jason Bateman 2013-01-23 23:29:38\n",
       "465561  138446    55999         quirky 2013-01-23 23:29:38\n",
       "465562  138446    55999            sad 2013-01-23 23:29:32\n",
       "465563  138472      923  rise to power 2007-11-02 21:12:47\n",
       "\n",
       "[465030 rows x 4 columns]"
      ]
     },
     "execution_count": 67,
     "metadata": {},
     "output_type": "execute_result"
    }
   ],
   "source": [
    "es_numero = pd.to_numeric(df['tag'], errors='coerce').notna()\n",
    "df = df[~es_numero]\n",
    "df"
   ]
  },
  {
   "cell_type": "code",
   "execution_count": 68,
   "id": "3c56edaf",
   "metadata": {},
   "outputs": [],
   "source": [
    "df_strings = df[df['tag'].apply(lambda x: isinstance(x, str))]"
   ]
  },
  {
   "cell_type": "code",
   "execution_count": 69,
   "id": "49ae20af",
   "metadata": {},
   "outputs": [],
   "source": [
    "df_strings['tag'] = df_strings['tag'].str.replace(r'[^a-zA-Z0-9]', '', regex=True)"
   ]
  },
  {
   "cell_type": "code",
   "execution_count": 70,
   "id": "04c1a0a6",
   "metadata": {},
   "outputs": [
    {
     "data": {
      "text/html": [
       "<div>\n",
       "<style scoped>\n",
       "    .dataframe tbody tr th:only-of-type {\n",
       "        vertical-align: middle;\n",
       "    }\n",
       "\n",
       "    .dataframe tbody tr th {\n",
       "        vertical-align: top;\n",
       "    }\n",
       "\n",
       "    .dataframe thead th {\n",
       "        text-align: right;\n",
       "    }\n",
       "</style>\n",
       "<table border=\"1\" class=\"dataframe\">\n",
       "  <thead>\n",
       "    <tr style=\"text-align: right;\">\n",
       "      <th></th>\n",
       "      <th>userid</th>\n",
       "      <th>movieid</th>\n",
       "      <th>tag</th>\n",
       "      <th>timestamp</th>\n",
       "    </tr>\n",
       "  </thead>\n",
       "  <tbody>\n",
       "    <tr>\n",
       "      <th>0</th>\n",
       "      <td>18</td>\n",
       "      <td>4141</td>\n",
       "      <td>MarkWaters</td>\n",
       "      <td>2009-04-24 18:19:40</td>\n",
       "    </tr>\n",
       "    <tr>\n",
       "      <th>1</th>\n",
       "      <td>65</td>\n",
       "      <td>208</td>\n",
       "      <td>darkhero</td>\n",
       "      <td>2013-05-10 01:41:18</td>\n",
       "    </tr>\n",
       "    <tr>\n",
       "      <th>2</th>\n",
       "      <td>65</td>\n",
       "      <td>353</td>\n",
       "      <td>darkhero</td>\n",
       "      <td>2013-05-10 01:41:19</td>\n",
       "    </tr>\n",
       "    <tr>\n",
       "      <th>3</th>\n",
       "      <td>65</td>\n",
       "      <td>521</td>\n",
       "      <td>noirthriller</td>\n",
       "      <td>2013-05-10 01:39:43</td>\n",
       "    </tr>\n",
       "    <tr>\n",
       "      <th>4</th>\n",
       "      <td>65</td>\n",
       "      <td>592</td>\n",
       "      <td>darkhero</td>\n",
       "      <td>2013-05-10 01:41:18</td>\n",
       "    </tr>\n",
       "    <tr>\n",
       "      <th>...</th>\n",
       "      <td>...</td>\n",
       "      <td>...</td>\n",
       "      <td>...</td>\n",
       "      <td>...</td>\n",
       "    </tr>\n",
       "    <tr>\n",
       "      <th>465559</th>\n",
       "      <td>138446</td>\n",
       "      <td>55999</td>\n",
       "      <td>dragged</td>\n",
       "      <td>2013-01-23 23:29:32</td>\n",
       "    </tr>\n",
       "    <tr>\n",
       "      <th>465560</th>\n",
       "      <td>138446</td>\n",
       "      <td>55999</td>\n",
       "      <td>JasonBateman</td>\n",
       "      <td>2013-01-23 23:29:38</td>\n",
       "    </tr>\n",
       "    <tr>\n",
       "      <th>465561</th>\n",
       "      <td>138446</td>\n",
       "      <td>55999</td>\n",
       "      <td>quirky</td>\n",
       "      <td>2013-01-23 23:29:38</td>\n",
       "    </tr>\n",
       "    <tr>\n",
       "      <th>465562</th>\n",
       "      <td>138446</td>\n",
       "      <td>55999</td>\n",
       "      <td>sad</td>\n",
       "      <td>2013-01-23 23:29:32</td>\n",
       "    </tr>\n",
       "    <tr>\n",
       "      <th>465563</th>\n",
       "      <td>138472</td>\n",
       "      <td>923</td>\n",
       "      <td>risetopower</td>\n",
       "      <td>2007-11-02 21:12:47</td>\n",
       "    </tr>\n",
       "  </tbody>\n",
       "</table>\n",
       "<p>465030 rows × 4 columns</p>\n",
       "</div>"
      ],
      "text/plain": [
       "        userid  movieid           tag           timestamp\n",
       "0           18     4141    MarkWaters 2009-04-24 18:19:40\n",
       "1           65      208      darkhero 2013-05-10 01:41:18\n",
       "2           65      353      darkhero 2013-05-10 01:41:19\n",
       "3           65      521  noirthriller 2013-05-10 01:39:43\n",
       "4           65      592      darkhero 2013-05-10 01:41:18\n",
       "...        ...      ...           ...                 ...\n",
       "465559  138446    55999       dragged 2013-01-23 23:29:32\n",
       "465560  138446    55999  JasonBateman 2013-01-23 23:29:38\n",
       "465561  138446    55999        quirky 2013-01-23 23:29:38\n",
       "465562  138446    55999           sad 2013-01-23 23:29:32\n",
       "465563  138472      923   risetopower 2007-11-02 21:12:47\n",
       "\n",
       "[465030 rows x 4 columns]"
      ]
     },
     "execution_count": 70,
     "metadata": {},
     "output_type": "execute_result"
    }
   ],
   "source": [
    "df_strings"
   ]
  },
  {
   "cell_type": "code",
   "execution_count": 71,
   "id": "4c6b2819",
   "metadata": {},
   "outputs": [],
   "source": [
    "def join_unique_tags(tags):\n",
    "    return ', '.join(pd.unique(tags))"
   ]
  },
  {
   "cell_type": "code",
   "execution_count": 72,
   "id": "07359488",
   "metadata": {},
   "outputs": [],
   "source": [
    "df = df_strings.groupby('movieid')['tag'].apply(join_unique_tags)"
   ]
  },
  {
   "cell_type": "code",
   "execution_count": 75,
   "id": "ff80307f",
   "metadata": {},
   "outputs": [],
   "source": [
    "# # Guardado de tabla de dimension\n",
    "df.to_csv(r\"../data/partial_tags.csv\")"
   ]
  }
 ],
 "metadata": {
  "kernelspec": {
   "display_name": "venv (3.13.7)",
   "language": "python",
   "name": "python3"
  },
  "language_info": {
   "codemirror_mode": {
    "name": "ipython",
    "version": 3
   },
   "file_extension": ".py",
   "mimetype": "text/x-python",
   "name": "python",
   "nbconvert_exporter": "python",
   "pygments_lexer": "ipython3",
   "version": "3.13.7"
  }
 },
 "nbformat": 4,
 "nbformat_minor": 5
}
