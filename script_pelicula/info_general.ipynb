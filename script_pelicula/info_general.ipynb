{
 "cells": [
  {
   "cell_type": "markdown",
   "id": "fc17238f",
   "metadata": {},
   "source": [
    "# Proyecto Seminario de Complexion\n",
    "## Información del caso\n"
   ]
  },
  {
   "cell_type": "markdown",
   "id": "9f52db30",
   "metadata": {},
   "source": [
    "### **Tema del caso**\n",
    "Construcción de un Sistema de Recomendación Híbrido de Películas - SRP"
   ]
  },
  {
   "cell_type": "markdown",
   "id": "29401246",
   "metadata": {},
   "source": [
    "### **Antecedentes**\n",
    "\n",
    "Las recomendaciones de películas no son del todo precisas, ya que no consideran de manera adecuada variables como el sexo y la edad. En consecuencia, algunos géneros cinematográficos tienden a ser menos vistos por determinados grupos de personas.\n",
    "\n",
    "La desconfianza en las recomendaciones de películas debido a la gran cantidad de opciones y a las reseñas poco fiables, afecta al público objetivo al dificultar la elección de contenido de calidad, haciendo crucial la solución para que los usuarios puedan satisfacer sus necesidades de manera eficiente"
   ]
  }
 ],
 "metadata": {
  "language_info": {
   "name": "python"
  }
 },
 "nbformat": 4,
 "nbformat_minor": 5
}
