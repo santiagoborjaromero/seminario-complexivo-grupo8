{
  "cells": [
    {
      "cell_type": "markdown",
      "metadata": {
        "id": "dwTUoYDPwgyf"
      },
      "source": [
        "# Módulo 3: Análisis exploratorio de los datos"
      ]
    },
    {
      "cell_type": "markdown",
      "metadata": {
        "id": "jGZF3sDUk7fh"
      },
      "source": [
        "## `Datetime`"
      ]
    },
    {
      "cell_type": "markdown",
      "metadata": {
        "id": "vbr67CRLzIzF"
      },
      "source": [
        "### Revisión de datos generales"
      ]
    },
    {
      "cell_type": "code",
      "execution_count": 1,
      "metadata": {
        "id": "cML0pMAJ1PeU"
      },
      "outputs": [],
      "source": [
        "# cargar todas las librerias\n",
        "import pandas as pd"
      ]
    },
    {
      "cell_type": "code",
      "execution_count": 2,
      "metadata": {
        "id": "okQMfstDtL9o"
      },
      "outputs": [],
      "source": [
        "# carga los datos\n",
        "data_climate = pd.read_csv(\"DailyDelhiClimateTrain.csv\")"
      ]
    },
    {
      "cell_type": "markdown",
      "metadata": {
        "id": "H1Bzi3exmNIH"
      },
      "source": [
        "https://www.kaggle.com/datasets/sumanthvrao/daily-climate-time-series-data"
      ]
    },
    {
      "cell_type": "code",
      "execution_count": 3,
      "metadata": {
        "colab": {
          "base_uri": "https://localhost:8080/"
        },
        "id": "X2kEPU5r1jBX",
        "outputId": "5a934eb7-33c2-4be4-efee-807bb429d1d3"
      },
      "outputs": [
        {
          "name": "stdout",
          "output_type": "stream",
          "text": [
            "<class 'pandas.core.frame.DataFrame'>\n",
            "RangeIndex: 1462 entries, 0 to 1461\n",
            "Data columns (total 5 columns):\n",
            " #   Column        Non-Null Count  Dtype  \n",
            "---  ------        --------------  -----  \n",
            " 0   date          1462 non-null   object \n",
            " 1   meantemp      1462 non-null   float64\n",
            " 2   humidity      1462 non-null   float64\n",
            " 3   wind_speed    1462 non-null   float64\n",
            " 4   meanpressure  1462 non-null   float64\n",
            "dtypes: float64(4), object(1)\n",
            "memory usage: 57.2+ KB\n"
          ]
        },
        {
          "data": {
            "text/plain": [
              "(1462, 5)"
            ]
          },
          "execution_count": 3,
          "metadata": {},
          "output_type": "execute_result"
        }
      ],
      "source": [
        "# información básica\n",
        "data_climate.info()\n",
        "data_climate.shape"
      ]
    },
    {
      "cell_type": "code",
      "execution_count": 4,
      "metadata": {
        "colab": {
          "base_uri": "https://localhost:8080/",
          "height": 363
        },
        "id": "ZLvLxrxR9oCy",
        "outputId": "62342343-865d-4a47-d7ee-ea73bc3b26b7"
      },
      "outputs": [
        {
          "data": {
            "text/html": [
              "<div>\n",
              "<style scoped>\n",
              "    .dataframe tbody tr th:only-of-type {\n",
              "        vertical-align: middle;\n",
              "    }\n",
              "\n",
              "    .dataframe tbody tr th {\n",
              "        vertical-align: top;\n",
              "    }\n",
              "\n",
              "    .dataframe thead th {\n",
              "        text-align: right;\n",
              "    }\n",
              "</style>\n",
              "<table border=\"1\" class=\"dataframe\">\n",
              "  <thead>\n",
              "    <tr style=\"text-align: right;\">\n",
              "      <th></th>\n",
              "      <th>date</th>\n",
              "      <th>meantemp</th>\n",
              "      <th>humidity</th>\n",
              "      <th>wind_speed</th>\n",
              "      <th>meanpressure</th>\n",
              "    </tr>\n",
              "  </thead>\n",
              "  <tbody>\n",
              "    <tr>\n",
              "      <th>0</th>\n",
              "      <td>2013-01-01</td>\n",
              "      <td>10.000000</td>\n",
              "      <td>84.500000</td>\n",
              "      <td>0.000000</td>\n",
              "      <td>1015.666667</td>\n",
              "    </tr>\n",
              "    <tr>\n",
              "      <th>1</th>\n",
              "      <td>2013-01-02</td>\n",
              "      <td>7.400000</td>\n",
              "      <td>92.000000</td>\n",
              "      <td>2.980000</td>\n",
              "      <td>1017.800000</td>\n",
              "    </tr>\n",
              "    <tr>\n",
              "      <th>2</th>\n",
              "      <td>2013-01-03</td>\n",
              "      <td>7.166667</td>\n",
              "      <td>87.000000</td>\n",
              "      <td>4.633333</td>\n",
              "      <td>1018.666667</td>\n",
              "    </tr>\n",
              "    <tr>\n",
              "      <th>3</th>\n",
              "      <td>2013-01-04</td>\n",
              "      <td>8.666667</td>\n",
              "      <td>71.333333</td>\n",
              "      <td>1.233333</td>\n",
              "      <td>1017.166667</td>\n",
              "    </tr>\n",
              "    <tr>\n",
              "      <th>4</th>\n",
              "      <td>2013-01-05</td>\n",
              "      <td>6.000000</td>\n",
              "      <td>86.833333</td>\n",
              "      <td>3.700000</td>\n",
              "      <td>1016.500000</td>\n",
              "    </tr>\n",
              "    <tr>\n",
              "      <th>5</th>\n",
              "      <td>2013-01-06</td>\n",
              "      <td>7.000000</td>\n",
              "      <td>82.800000</td>\n",
              "      <td>1.480000</td>\n",
              "      <td>1018.000000</td>\n",
              "    </tr>\n",
              "    <tr>\n",
              "      <th>6</th>\n",
              "      <td>2013-01-07</td>\n",
              "      <td>7.000000</td>\n",
              "      <td>78.600000</td>\n",
              "      <td>6.300000</td>\n",
              "      <td>1020.000000</td>\n",
              "    </tr>\n",
              "    <tr>\n",
              "      <th>7</th>\n",
              "      <td>2013-01-08</td>\n",
              "      <td>8.857143</td>\n",
              "      <td>63.714286</td>\n",
              "      <td>7.142857</td>\n",
              "      <td>1018.714286</td>\n",
              "    </tr>\n",
              "    <tr>\n",
              "      <th>8</th>\n",
              "      <td>2013-01-09</td>\n",
              "      <td>14.000000</td>\n",
              "      <td>51.250000</td>\n",
              "      <td>12.500000</td>\n",
              "      <td>1017.000000</td>\n",
              "    </tr>\n",
              "    <tr>\n",
              "      <th>9</th>\n",
              "      <td>2013-01-10</td>\n",
              "      <td>11.000000</td>\n",
              "      <td>62.000000</td>\n",
              "      <td>7.400000</td>\n",
              "      <td>1015.666667</td>\n",
              "    </tr>\n",
              "    <tr>\n",
              "      <th>10</th>\n",
              "      <td>2013-01-11</td>\n",
              "      <td>15.714286</td>\n",
              "      <td>51.285714</td>\n",
              "      <td>10.571429</td>\n",
              "      <td>1016.142857</td>\n",
              "    </tr>\n",
              "    <tr>\n",
              "      <th>11</th>\n",
              "      <td>2013-01-12</td>\n",
              "      <td>14.000000</td>\n",
              "      <td>74.000000</td>\n",
              "      <td>13.228571</td>\n",
              "      <td>1015.571429</td>\n",
              "    </tr>\n",
              "    <tr>\n",
              "      <th>12</th>\n",
              "      <td>2013-01-13</td>\n",
              "      <td>15.833333</td>\n",
              "      <td>75.166667</td>\n",
              "      <td>4.633333</td>\n",
              "      <td>1013.333333</td>\n",
              "    </tr>\n",
              "    <tr>\n",
              "      <th>13</th>\n",
              "      <td>2013-01-14</td>\n",
              "      <td>12.833333</td>\n",
              "      <td>88.166667</td>\n",
              "      <td>0.616667</td>\n",
              "      <td>1015.166667</td>\n",
              "    </tr>\n",
              "    <tr>\n",
              "      <th>14</th>\n",
              "      <td>2013-01-15</td>\n",
              "      <td>14.714286</td>\n",
              "      <td>71.857143</td>\n",
              "      <td>0.528571</td>\n",
              "      <td>1015.857143</td>\n",
              "    </tr>\n",
              "    <tr>\n",
              "      <th>15</th>\n",
              "      <td>2013-01-16</td>\n",
              "      <td>13.833333</td>\n",
              "      <td>86.666667</td>\n",
              "      <td>0.000000</td>\n",
              "      <td>1016.666667</td>\n",
              "    </tr>\n",
              "    <tr>\n",
              "      <th>16</th>\n",
              "      <td>2013-01-17</td>\n",
              "      <td>16.500000</td>\n",
              "      <td>80.833333</td>\n",
              "      <td>5.250000</td>\n",
              "      <td>1015.833333</td>\n",
              "    </tr>\n",
              "    <tr>\n",
              "      <th>17</th>\n",
              "      <td>2013-01-18</td>\n",
              "      <td>13.833333</td>\n",
              "      <td>92.166667</td>\n",
              "      <td>8.950000</td>\n",
              "      <td>1014.500000</td>\n",
              "    </tr>\n",
              "    <tr>\n",
              "      <th>18</th>\n",
              "      <td>2013-01-19</td>\n",
              "      <td>12.500000</td>\n",
              "      <td>76.666667</td>\n",
              "      <td>5.883333</td>\n",
              "      <td>1021.666667</td>\n",
              "    </tr>\n",
              "    <tr>\n",
              "      <th>19</th>\n",
              "      <td>2013-01-20</td>\n",
              "      <td>11.285714</td>\n",
              "      <td>75.285714</td>\n",
              "      <td>8.471429</td>\n",
              "      <td>1020.285714</td>\n",
              "    </tr>\n",
              "  </tbody>\n",
              "</table>\n",
              "</div>"
            ],
            "text/plain": [
              "          date   meantemp   humidity  wind_speed  meanpressure\n",
              "0   2013-01-01  10.000000  84.500000    0.000000   1015.666667\n",
              "1   2013-01-02   7.400000  92.000000    2.980000   1017.800000\n",
              "2   2013-01-03   7.166667  87.000000    4.633333   1018.666667\n",
              "3   2013-01-04   8.666667  71.333333    1.233333   1017.166667\n",
              "4   2013-01-05   6.000000  86.833333    3.700000   1016.500000\n",
              "5   2013-01-06   7.000000  82.800000    1.480000   1018.000000\n",
              "6   2013-01-07   7.000000  78.600000    6.300000   1020.000000\n",
              "7   2013-01-08   8.857143  63.714286    7.142857   1018.714286\n",
              "8   2013-01-09  14.000000  51.250000   12.500000   1017.000000\n",
              "9   2013-01-10  11.000000  62.000000    7.400000   1015.666667\n",
              "10  2013-01-11  15.714286  51.285714   10.571429   1016.142857\n",
              "11  2013-01-12  14.000000  74.000000   13.228571   1015.571429\n",
              "12  2013-01-13  15.833333  75.166667    4.633333   1013.333333\n",
              "13  2013-01-14  12.833333  88.166667    0.616667   1015.166667\n",
              "14  2013-01-15  14.714286  71.857143    0.528571   1015.857143\n",
              "15  2013-01-16  13.833333  86.666667    0.000000   1016.666667\n",
              "16  2013-01-17  16.500000  80.833333    5.250000   1015.833333\n",
              "17  2013-01-18  13.833333  92.166667    8.950000   1014.500000\n",
              "18  2013-01-19  12.500000  76.666667    5.883333   1021.666667\n",
              "19  2013-01-20  11.285714  75.285714    8.471429   1020.285714"
            ]
          },
          "execution_count": 4,
          "metadata": {},
          "output_type": "execute_result"
        }
      ],
      "source": [
        "# primeros datos\n",
        "data_climate.head(20)"
      ]
    },
    {
      "cell_type": "markdown",
      "metadata": {
        "id": "qAg-af7m7IQd"
      },
      "source": [
        "### Conversión de string a `datetime`"
      ]
    },
    {
      "cell_type": "markdown",
      "metadata": {
        "id": "cKzmJNFe7ept"
      },
      "source": [
        "Importante saber cómo está la información de la fecha, es decir, en qué formato se está presentando:\n",
        "*   Año-Mes-Día\n",
        "*   Año-Día-Mes\n",
        "*   Día-Mes-Año\n",
        "\n",
        "En este caso tenemos en el formato `%Y-%m-%d`"
      ]
    },
    {
      "cell_type": "markdown",
      "metadata": {},
      "source": [
        "`%Y`\n",
        "\n",
        "`%y`"
      ]
    },
    {
      "cell_type": "markdown",
      "metadata": {},
      "source": [
        "`format='%Y-%m-%dZ%H:%M:%S'`\n",
        "\n",
        "`%H`\n",
        "\n",
        "`%h`\n",
        "\n",
        "`%M`\n",
        "\n",
        "`%S`"
      ]
    },
    {
      "cell_type": "code",
      "execution_count": 19,
      "metadata": {},
      "outputs": [
        {
          "data": {
            "text/plain": [
              "Index(['date', 'meantemp', 'humidity', 'wind_speed', 'meanpressure', 'weekday',\n",
              "       'month', 'year'],\n",
              "      dtype='object')"
            ]
          },
          "execution_count": 19,
          "metadata": {},
          "output_type": "execute_result"
        }
      ],
      "source": [
        "data_climate.columns"
      ]
    },
    {
      "cell_type": "code",
      "execution_count": 20,
      "metadata": {
        "id": "0ww-t5W0569E"
      },
      "outputs": [],
      "source": [
        "# cambiamos a datetime la columna `date`\n",
        "data_climate[\"date\"] = pd.to_datetime(data_climate[\"date\"], format='%Y-%m-%d')"
      ]
    },
    {
      "cell_type": "code",
      "execution_count": 21,
      "metadata": {
        "colab": {
          "base_uri": "https://localhost:8080/"
        },
        "id": "9J4kIYcbAItM",
        "outputId": "3394b30b-fb89-4d26-bd44-775f46c0e603"
      },
      "outputs": [
        {
          "data": {
            "text/plain": [
              "date            datetime64[ns]\n",
              "meantemp               float64\n",
              "humidity               float64\n",
              "wind_speed             float64\n",
              "meanpressure           float64\n",
              "weekday                  int32\n",
              "month                    int32\n",
              "year                     int32\n",
              "dtype: object"
            ]
          },
          "execution_count": 21,
          "metadata": {},
          "output_type": "execute_result"
        }
      ],
      "source": [
        "# tipos de datos\n",
        "data_climate.dtypes"
      ]
    },
    {
      "cell_type": "markdown",
      "metadata": {
        "id": "6o_slBdsAflt"
      },
      "source": [
        "### Transformación de datos"
      ]
    },
    {
      "cell_type": "markdown",
      "metadata": {
        "id": "8ZYMmTM9BdEC"
      },
      "source": [
        "De la columna `date` con tipo de dato `datetime64[ns]`, se puede sacar información de:\n",
        "* Día de la semana (rango de 0 a 6 ; 1 a 7 - lunes a domingo)\n",
        "* Día del mes (rango de 1 a 12 - enero a diciembre)\n",
        "* Año (formato 4 dígitos)"
      ]
    },
    {
      "cell_type": "code",
      "execution_count": 8,
      "metadata": {
        "id": "sUbL21h-AjRh"
      },
      "outputs": [],
      "source": [
        "# día de la semana de la publicación del anuncio\n",
        "data_climate['weekday'] = data_climate[\"date\"].dt.weekday\n",
        "data_climate['month'] = data_climate[\"date\"].dt.month\n",
        "data_climate['year'] = data_climate[\"date\"].dt.year"
      ]
    },
    {
      "cell_type": "code",
      "execution_count": 9,
      "metadata": {
        "colab": {
          "base_uri": "https://localhost:8080/",
          "height": 423
        },
        "id": "ptCbMj47CnQ2",
        "outputId": "8e334593-b790-468d-b314-0997bf23e178"
      },
      "outputs": [
        {
          "data": {
            "text/html": [
              "<div>\n",
              "<style scoped>\n",
              "    .dataframe tbody tr th:only-of-type {\n",
              "        vertical-align: middle;\n",
              "    }\n",
              "\n",
              "    .dataframe tbody tr th {\n",
              "        vertical-align: top;\n",
              "    }\n",
              "\n",
              "    .dataframe thead th {\n",
              "        text-align: right;\n",
              "    }\n",
              "</style>\n",
              "<table border=\"1\" class=\"dataframe\">\n",
              "  <thead>\n",
              "    <tr style=\"text-align: right;\">\n",
              "      <th></th>\n",
              "      <th>date</th>\n",
              "      <th>meantemp</th>\n",
              "      <th>humidity</th>\n",
              "      <th>wind_speed</th>\n",
              "      <th>meanpressure</th>\n",
              "      <th>weekday</th>\n",
              "      <th>month</th>\n",
              "      <th>year</th>\n",
              "    </tr>\n",
              "  </thead>\n",
              "  <tbody>\n",
              "    <tr>\n",
              "      <th>0</th>\n",
              "      <td>2013-01-01</td>\n",
              "      <td>10.000000</td>\n",
              "      <td>84.500000</td>\n",
              "      <td>0.000000</td>\n",
              "      <td>1015.666667</td>\n",
              "      <td>1</td>\n",
              "      <td>1</td>\n",
              "      <td>2013</td>\n",
              "    </tr>\n",
              "    <tr>\n",
              "      <th>1</th>\n",
              "      <td>2013-01-02</td>\n",
              "      <td>7.400000</td>\n",
              "      <td>92.000000</td>\n",
              "      <td>2.980000</td>\n",
              "      <td>1017.800000</td>\n",
              "      <td>2</td>\n",
              "      <td>1</td>\n",
              "      <td>2013</td>\n",
              "    </tr>\n",
              "    <tr>\n",
              "      <th>2</th>\n",
              "      <td>2013-01-03</td>\n",
              "      <td>7.166667</td>\n",
              "      <td>87.000000</td>\n",
              "      <td>4.633333</td>\n",
              "      <td>1018.666667</td>\n",
              "      <td>3</td>\n",
              "      <td>1</td>\n",
              "      <td>2013</td>\n",
              "    </tr>\n",
              "    <tr>\n",
              "      <th>3</th>\n",
              "      <td>2013-01-04</td>\n",
              "      <td>8.666667</td>\n",
              "      <td>71.333333</td>\n",
              "      <td>1.233333</td>\n",
              "      <td>1017.166667</td>\n",
              "      <td>4</td>\n",
              "      <td>1</td>\n",
              "      <td>2013</td>\n",
              "    </tr>\n",
              "    <tr>\n",
              "      <th>4</th>\n",
              "      <td>2013-01-05</td>\n",
              "      <td>6.000000</td>\n",
              "      <td>86.833333</td>\n",
              "      <td>3.700000</td>\n",
              "      <td>1016.500000</td>\n",
              "      <td>5</td>\n",
              "      <td>1</td>\n",
              "      <td>2013</td>\n",
              "    </tr>\n",
              "  </tbody>\n",
              "</table>\n",
              "</div>"
            ],
            "text/plain": [
              "        date   meantemp   humidity  wind_speed  meanpressure  weekday  month  \\\n",
              "0 2013-01-01  10.000000  84.500000    0.000000   1015.666667        1      1   \n",
              "1 2013-01-02   7.400000  92.000000    2.980000   1017.800000        2      1   \n",
              "2 2013-01-03   7.166667  87.000000    4.633333   1018.666667        3      1   \n",
              "3 2013-01-04   8.666667  71.333333    1.233333   1017.166667        4      1   \n",
              "4 2013-01-05   6.000000  86.833333    3.700000   1016.500000        5      1   \n",
              "\n",
              "   year  \n",
              "0  2013  \n",
              "1  2013  \n",
              "2  2013  \n",
              "3  2013  \n",
              "4  2013  "
            ]
          },
          "execution_count": 9,
          "metadata": {},
          "output_type": "execute_result"
        }
      ],
      "source": [
        "# primeros datos\n",
        "data_climate.head()"
      ]
    }
  ],
  "metadata": {
    "colab": {
      "provenance": []
    },
    "kernelspec": {
      "display_name": "Python 3",
      "name": "python3"
    },
    "language_info": {
      "codemirror_mode": {
        "name": "ipython",
        "version": 3
      },
      "file_extension": ".py",
      "mimetype": "text/x-python",
      "name": "python",
      "nbconvert_exporter": "python",
      "pygments_lexer": "ipython3",
      "version": "3.12.6"
    }
  },
  "nbformat": 4,
  "nbformat_minor": 0
}
