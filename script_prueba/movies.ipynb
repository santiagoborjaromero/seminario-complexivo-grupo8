{
 "cells": [
  {
   "cell_type": "markdown",
   "id": "732537ae",
   "metadata": {},
   "source": [
    "# Librerias"
   ]
  },
  {
   "cell_type": "code",
   "execution_count": 1,
   "id": "1d0d969d",
   "metadata": {},
   "outputs": [],
   "source": [
    "import pandas as pd\n",
    "import missingno as msno\n",
    "import numpy as np"
   ]
  },
  {
   "cell_type": "code",
   "execution_count": 3,
   "id": "ac03b16d",
   "metadata": {},
   "outputs": [],
   "source": [
    "movies = pd.read_csv(r\"../data/movie.csv\")"
   ]
  },
  {
   "cell_type": "code",
   "execution_count": 4,
   "id": "3abee425",
   "metadata": {},
   "outputs": [
    {
     "data": {
      "text/html": [
       "<div>\n",
       "<style scoped>\n",
       "    .dataframe tbody tr th:only-of-type {\n",
       "        vertical-align: middle;\n",
       "    }\n",
       "\n",
       "    .dataframe tbody tr th {\n",
       "        vertical-align: top;\n",
       "    }\n",
       "\n",
       "    .dataframe thead th {\n",
       "        text-align: right;\n",
       "    }\n",
       "</style>\n",
       "<table border=\"1\" class=\"dataframe\">\n",
       "  <thead>\n",
       "    <tr style=\"text-align: right;\">\n",
       "      <th></th>\n",
       "      <th>movieId</th>\n",
       "      <th>title</th>\n",
       "      <th>genres</th>\n",
       "    </tr>\n",
       "  </thead>\n",
       "  <tbody>\n",
       "    <tr>\n",
       "      <th>0</th>\n",
       "      <td>1</td>\n",
       "      <td>Toy Story (1995)</td>\n",
       "      <td>Adventure|Animation|Children|Comedy|Fantasy</td>\n",
       "    </tr>\n",
       "    <tr>\n",
       "      <th>1</th>\n",
       "      <td>2</td>\n",
       "      <td>Jumanji (1995)</td>\n",
       "      <td>Adventure|Children|Fantasy</td>\n",
       "    </tr>\n",
       "    <tr>\n",
       "      <th>2</th>\n",
       "      <td>3</td>\n",
       "      <td>Grumpier Old Men (1995)</td>\n",
       "      <td>Comedy|Romance</td>\n",
       "    </tr>\n",
       "    <tr>\n",
       "      <th>3</th>\n",
       "      <td>4</td>\n",
       "      <td>Waiting to Exhale (1995)</td>\n",
       "      <td>Comedy|Drama|Romance</td>\n",
       "    </tr>\n",
       "    <tr>\n",
       "      <th>4</th>\n",
       "      <td>5</td>\n",
       "      <td>Father of the Bride Part II (1995)</td>\n",
       "      <td>Comedy</td>\n",
       "    </tr>\n",
       "  </tbody>\n",
       "</table>\n",
       "</div>"
      ],
      "text/plain": [
       "   movieId                               title  \\\n",
       "0        1                    Toy Story (1995)   \n",
       "1        2                      Jumanji (1995)   \n",
       "2        3             Grumpier Old Men (1995)   \n",
       "3        4            Waiting to Exhale (1995)   \n",
       "4        5  Father of the Bride Part II (1995)   \n",
       "\n",
       "                                        genres  \n",
       "0  Adventure|Animation|Children|Comedy|Fantasy  \n",
       "1                   Adventure|Children|Fantasy  \n",
       "2                               Comedy|Romance  \n",
       "3                         Comedy|Drama|Romance  \n",
       "4                                       Comedy  "
      ]
     },
     "execution_count": 4,
     "metadata": {},
     "output_type": "execute_result"
    }
   ],
   "source": [
    "movies.head()"
   ]
  },
  {
   "cell_type": "code",
   "execution_count": 5,
   "id": "a916996b",
   "metadata": {},
   "outputs": [
    {
     "name": "stdout",
     "output_type": "stream",
     "text": [
      "<class 'pandas.core.frame.DataFrame'>\n",
      "RangeIndex: 27278 entries, 0 to 27277\n",
      "Data columns (total 3 columns):\n",
      " #   Column   Non-Null Count  Dtype \n",
      "---  ------   --------------  ----- \n",
      " 0   movieId  27278 non-null  int64 \n",
      " 1   title    27278 non-null  object\n",
      " 2   genres   27278 non-null  object\n",
      "dtypes: int64(1), object(2)\n",
      "memory usage: 639.5+ KB\n"
     ]
    }
   ],
   "source": [
    "movies.info()"
   ]
  },
  {
   "cell_type": "code",
   "execution_count": 6,
   "id": "83d5e62d",
   "metadata": {},
   "outputs": [
    {
     "data": {
      "text/plain": [
       "Index(['movieId', 'title', 'genres'], dtype='object')"
      ]
     },
     "execution_count": 6,
     "metadata": {},
     "output_type": "execute_result"
    }
   ],
   "source": [
    "# nombre de columnas\n",
    "movies.columns"
   ]
  },
  {
   "cell_type": "code",
   "execution_count": 7,
   "id": "51d9a64d",
   "metadata": {},
   "outputs": [],
   "source": [
    "# Cambiar nombre de columnas\n",
    "movies = movies.rename(\n",
    "    columns={\n",
    "        \"movieId\": \"movieid\",\n",
    "    }\n",
    ")"
   ]
  },
  {
   "cell_type": "code",
   "execution_count": 8,
   "id": "d3d637e8",
   "metadata": {},
   "outputs": [
    {
     "data": {
      "text/plain": [
       "Index(['movieid', 'title', 'genres'], dtype='object')"
      ]
     },
     "execution_count": 8,
     "metadata": {},
     "output_type": "execute_result"
    }
   ],
   "source": [
    "movies.columns"
   ]
  },
  {
   "cell_type": "markdown",
   "id": "6199afea",
   "metadata": {},
   "source": [
    "Visualizar valores ausente y valores unicos"
   ]
  },
  {
   "cell_type": "code",
   "execution_count": 9,
   "id": "e3e74851",
   "metadata": {},
   "outputs": [],
   "source": [
    "# Visualizar valores unicos\n",
    "valores_unicos = movies.nunique()"
   ]
  },
  {
   "cell_type": "code",
   "execution_count": 10,
   "id": "3e8c2def",
   "metadata": {},
   "outputs": [],
   "source": [
    "# Cuantos valores ausentes \n",
    "valores_ausentes = movies.isnull().sum()"
   ]
  },
  {
   "cell_type": "code",
   "execution_count": 11,
   "id": "489698c6",
   "metadata": {},
   "outputs": [
    {
     "data": {
      "text/plain": [
       "Index(['movieid', 'title', 'genres'], dtype='object')"
      ]
     },
     "execution_count": 11,
     "metadata": {},
     "output_type": "execute_result"
    }
   ],
   "source": [
    "movies.columns"
   ]
  },
  {
   "cell_type": "code",
   "execution_count": 12,
   "id": "02998d20",
   "metadata": {},
   "outputs": [
    {
     "data": {
      "text/plain": [
       "pandas.core.frame.DataFrame"
      ]
     },
     "execution_count": 12,
     "metadata": {},
     "output_type": "execute_result"
    }
   ],
   "source": [
    "type(movies)"
   ]
  },
  {
   "cell_type": "code",
   "execution_count": 13,
   "id": "3555ec42",
   "metadata": {},
   "outputs": [
    {
     "name": "stdout",
     "output_type": "stream",
     "text": [
      "<class 'pandas.core.series.Series'>\n",
      "Index: 3 entries, movieid to genres\n",
      "Series name: None\n",
      "Non-Null Count  Dtype\n",
      "--------------  -----\n",
      "3 non-null      int64\n",
      "dtypes: int64(1)\n",
      "memory usage: 48.0+ bytes\n"
     ]
    }
   ],
   "source": [
    "movies.isnull().sum().info()"
   ]
  },
  {
   "cell_type": "code",
   "execution_count": 16,
   "id": "97c3bbbe",
   "metadata": {},
   "outputs": [
    {
     "data": {
      "text/plain": [
       "np.int64(0)"
      ]
     },
     "execution_count": 16,
     "metadata": {},
     "output_type": "execute_result"
    }
   ],
   "source": [
    "# Suma de Nulos que estan en la columna rating_esrb\n",
    "movies.isnull().sum()[\"genres\"]"
   ]
  },
  {
   "cell_type": "code",
   "execution_count": 17,
   "id": "f1cc5248",
   "metadata": {},
   "outputs": [],
   "source": [
    "tota_datos = len(movies)"
   ]
  },
  {
   "cell_type": "code",
   "execution_count": 18,
   "id": "b6b47368",
   "metadata": {},
   "outputs": [
    {
     "data": {
      "text/html": [
       "<div>\n",
       "<style scoped>\n",
       "    .dataframe tbody tr th:only-of-type {\n",
       "        vertical-align: middle;\n",
       "    }\n",
       "\n",
       "    .dataframe tbody tr th {\n",
       "        vertical-align: top;\n",
       "    }\n",
       "\n",
       "    .dataframe thead th {\n",
       "        text-align: right;\n",
       "    }\n",
       "</style>\n",
       "<table border=\"1\" class=\"dataframe\">\n",
       "  <thead>\n",
       "    <tr style=\"text-align: right;\">\n",
       "      <th></th>\n",
       "      <th>Valores unicos</th>\n",
       "      <th>Nulos</th>\n",
       "    </tr>\n",
       "  </thead>\n",
       "  <tbody>\n",
       "    <tr>\n",
       "      <th>movieid</th>\n",
       "      <td>27278</td>\n",
       "      <td>0</td>\n",
       "    </tr>\n",
       "    <tr>\n",
       "      <th>title</th>\n",
       "      <td>27262</td>\n",
       "      <td>0</td>\n",
       "    </tr>\n",
       "    <tr>\n",
       "      <th>genres</th>\n",
       "      <td>1342</td>\n",
       "      <td>0</td>\n",
       "    </tr>\n",
       "  </tbody>\n",
       "</table>\n",
       "</div>"
      ],
      "text/plain": [
       "         Valores unicos  Nulos\n",
       "movieid           27278      0\n",
       "title             27262      0\n",
       "genres             1342      0"
      ]
     },
     "execution_count": 18,
     "metadata": {},
     "output_type": "execute_result"
    }
   ],
   "source": [
    "# Convertir un tipo de dato a otro\n",
    "datos_generales = pd.DataFrame({\n",
    "    \"Valores unicos\": valores_unicos,\n",
    "    \"Nulos\": valores_ausentes\n",
    "})\n",
    "datos_generales"
   ]
  },
  {
   "cell_type": "code",
   "execution_count": 19,
   "id": "06d04f8e",
   "metadata": {},
   "outputs": [
    {
     "data": {
      "text/plain": [
       "movieid    0.0\n",
       "title      0.0\n",
       "genres     0.0\n",
       "dtype: float64"
      ]
     },
     "execution_count": 19,
     "metadata": {},
     "output_type": "execute_result"
    }
   ],
   "source": [
    "# Porcentaje de ausentes en todas las columnas con formateados round\n",
    "round(movies.isnull().mean() * 100 , 1)"
   ]
  },
  {
   "cell_type": "markdown",
   "id": "7f527b50",
   "metadata": {},
   "source": [
    "Cantidad de valores no nulos (grafico)"
   ]
  },
  {
   "cell_type": "code",
   "execution_count": 20,
   "id": "21ad0a61",
   "metadata": {},
   "outputs": [
    {
     "data": {
      "text/plain": [
       "<Axes: >"
      ]
     },
     "execution_count": 20,
     "metadata": {},
     "output_type": "execute_result"
    },
    {
     "data": {
      "image/png": "[encoded data removed]",
      "text/plain": [
       "<Figure size 2500x1000 with 3 Axes>"
      ]
     },
     "metadata": {},
     "output_type": "display_data"
    }
   ],
   "source": [
    "# Crear distintos graficos para visualizar mejor forma los datos\n",
    "msno.bar(movies)"
   ]
  },
  {
   "cell_type": "markdown",
   "id": "eeb9e7ad",
   "metadata": {},
   "source": [
    "Matriz de valores ausentes"
   ]
  },
  {
   "cell_type": "code",
   "execution_count": 21,
   "id": "b48c79a7",
   "metadata": {},
   "outputs": [
    {
     "data": {
      "text/plain": [
       "<Axes: >"
      ]
     },
     "execution_count": 21,
     "metadata": {},
     "output_type": "execute_result"
    },
    {
     "data": {
      "image/png": "[encoded data removed]",
      "text/plain": [
       "<Figure size 2500x1000 with 2 Axes>"
      ]
     },
     "metadata": {},
     "output_type": "display_data"
    }
   ],
   "source": [
    "# Matriz de valores ausentes \n",
    "msno.matrix(movies)"
   ]
  },
  {
   "cell_type": "markdown",
   "id": "1dc1d214",
   "metadata": {},
   "source": [
    "La librería `missingno` se concentra en visualizar y analizar datos en valores ausentes\n",
    "\n",
    "## HEATMAP\n",
    "\n",
    "Este es un mapa de calor, que indica valores ausentes.\n",
    "\n",
    "Por ejemplo genre vs name, nos indica que hay valores ausentes en dos filas\n",
    "\n",
    "User Score vs Critic Store tiene 0.8, es decir en casi todas hay datos ausentes y quiere decir que donde es ausente en User Score tambien es ausente en Critic Store"
   ]
  },
  {
   "cell_type": "code",
   "execution_count": 22,
   "id": "6114d08d",
   "metadata": {},
   "outputs": [
    {
     "name": "stderr",
     "output_type": "stream",
     "text": [
      "d:\\Personal\\UNIANDES\\OneDrive\\OneDrive - UNIANDES\\SEMINARIO\\Proyecto\\seminario-complexivo-grupo8\\venv\\Lib\\site-packages\\seaborn\\matrix.py:309: UserWarning: Attempting to set identical low and high xlims makes transformation singular; automatically expanding.\n",
      "  ax.set(xlim=(0, self.data.shape[1]), ylim=(0, self.data.shape[0]))\n",
      "d:\\Personal\\UNIANDES\\OneDrive\\OneDrive - UNIANDES\\SEMINARIO\\Proyecto\\seminario-complexivo-grupo8\\venv\\Lib\\site-packages\\seaborn\\matrix.py:309: UserWarning: Attempting to set identical low and high ylims makes transformation singular; automatically expanding.\n",
      "  ax.set(xlim=(0, self.data.shape[1]), ylim=(0, self.data.shape[0]))\n"
     ]
    },
    {
     "data": {
      "text/plain": [
       "<Axes: >"
      ]
     },
     "execution_count": 22,
     "metadata": {},
     "output_type": "execute_result"
    },
    {
     "data": {
      "image/png": "[encoded data removed]",
      "text/plain": [
       "<Figure size 2000x1200 with 2 Axes>"
      ]
     },
     "metadata": {},
     "output_type": "display_data"
    }
   ],
   "source": [
    "msno.heatmap(movies)"
   ]
  },
  {
   "cell_type": "markdown",
   "id": "fb0a9eb4",
   "metadata": {},
   "source": [
    "## Analizar de forma rápida los datos por columnas\n",
    "\n",
    "Conteo total de datos categoricos numericos continuos.  \n",
    "\n",
    "*Frecuencia o distribución de los datos*"
   ]
  },
  {
   "cell_type": "code",
   "execution_count": 24,
   "id": "5600388d",
   "metadata": {},
   "outputs": [
    {
     "data": {
      "text/plain": [
       "genres\n",
       "Drama                                      16.570130\n",
       "Comedy                                      8.409707\n",
       "Documentary                                 7.119290\n",
       "Comedy|Drama                                4.633771\n",
       "Drama|Romance                               3.940905\n",
       "                                             ...    \n",
       "Action|Mystery|Romance|Western              0.003666\n",
       "Adventure|Children|Comedy|Drama|Fantasy     0.003666\n",
       "Animation|Comedy|Horror                     0.003666\n",
       "Adventure|Crime|Mystery|Romance             0.003666\n",
       "Adventure|Children|Documentary|Drama        0.003666\n",
       "Name: proportion, Length: 1342, dtype: float64"
      ]
     },
     "execution_count": 24,
     "metadata": {},
     "output_type": "execute_result"
    }
   ],
   "source": [
    "movies[\"genres\"].value_counts(normalize=True) * 100 "
   ]
  },
  {
   "cell_type": "markdown",
   "id": "181b72c4",
   "metadata": {},
   "source": [
    "Aqui podemos ver si hay columnas iguales pero case sensitive diferente ej: \"Sports\" y \"sports\""
   ]
  },
  {
   "cell_type": "markdown",
   "id": "6ad5f68c",
   "metadata": {},
   "source": [
    "## Automatización del código"
   ]
  },
  {
   "cell_type": "code",
   "execution_count": 25,
   "id": "5b7bbf59",
   "metadata": {},
   "outputs": [
    {
     "data": {
      "text/plain": [
       "Index(['movieid', 'title', 'genres'], dtype='object')"
      ]
     },
     "execution_count": 25,
     "metadata": {},
     "output_type": "execute_result"
    }
   ],
   "source": [
    "movies.columns"
   ]
  },
  {
   "cell_type": "code",
   "execution_count": 26,
   "id": "52a4a484",
   "metadata": {},
   "outputs": [
    {
     "name": "stdout",
     "output_type": "stream",
     "text": [
      "------- movieid --------\n",
      "movieid\n",
      "1         0.003666\n",
      "2         0.003666\n",
      "3         0.003666\n",
      "4         0.003666\n",
      "5         0.003666\n",
      "            ...   \n",
      "131254    0.003666\n",
      "131256    0.003666\n",
      "131258    0.003666\n",
      "131260    0.003666\n",
      "131262    0.003666\n",
      "Name: proportion, Length: 27278, dtype: float64\n",
      "\n",
      "------- title --------\n",
      "title\n",
      "Casanova (2005)                                                    0.007332\n",
      "Chaos (2005)                                                       0.007332\n",
      "Men with Guns (1997)                                               0.007332\n",
      "Offside (2006)                                                     0.007332\n",
      "War of the Worlds (2005)                                           0.007332\n",
      "                                                                     ...   \n",
      "Othello (1995)                                                     0.003666\n",
      "Now and Then (1995)                                                0.003666\n",
      "Persuasion (1995)                                                  0.003666\n",
      "City of Lost Children, The (Cité des enfants perdus, La) (1995)    0.003666\n",
      "Dracula: Dead and Loving It (1995)                                 0.003666\n",
      "Name: proportion, Length: 27262, dtype: float64\n",
      "\n",
      "------- genres --------\n",
      "genres\n",
      "Drama                                      16.570130\n",
      "Comedy                                      8.409707\n",
      "Documentary                                 7.119290\n",
      "Comedy|Drama                                4.633771\n",
      "Drama|Romance                               3.940905\n",
      "                                             ...    \n",
      "Action|Mystery|Romance|Western              0.003666\n",
      "Adventure|Children|Comedy|Drama|Fantasy     0.003666\n",
      "Animation|Comedy|Horror                     0.003666\n",
      "Adventure|Crime|Mystery|Romance             0.003666\n",
      "Adventure|Children|Documentary|Drama        0.003666\n",
      "Name: proportion, Length: 1342, dtype: float64\n",
      "\n"
     ]
    }
   ],
   "source": [
    "for column in movies.columns:\n",
    "    print(f\"------- {column} --------\")\n",
    "    p = movies[column].value_counts(normalize=True, dropna=False) * 100 \n",
    "    print(p)\n",
    "    print()\n",
    "    \n",
    "    # NAN -> valores ausentes "
   ]
  },
  {
   "cell_type": "markdown",
   "id": "b8ad32b7",
   "metadata": {},
   "source": [
    "Ver tipos de datos"
   ]
  },
  {
   "cell_type": "code",
   "execution_count": 27,
   "id": "9d45c56f",
   "metadata": {},
   "outputs": [
    {
     "data": {
      "text/plain": [
       "movieid     int64\n",
       "title      object\n",
       "genres     object\n",
       "dtype: object"
      ]
     },
     "execution_count": 27,
     "metadata": {},
     "output_type": "execute_result"
    }
   ],
   "source": [
    "movies.dtypes\n",
    "\n",
    "# tbd -> no determinado"
   ]
  },
  {
   "cell_type": "markdown",
   "id": "0328f357",
   "metadata": {},
   "source": [
    "## ResetIndex\n",
    "\n",
    "Ordenar los resuntados por una columna diferente a la del valor de porcentaje\n",
    "\n",
    "reset_index() -> rerita el indice a la columna por defecto y crea una nueva danto la secuencia de 0 en adelante. \n",
    "\n",
    "sort_values() -> determina la columna por la que se ordenará"
   ]
  },
  {
   "cell_type": "code",
   "execution_count": 29,
   "id": "30233afe",
   "metadata": {},
   "outputs": [
    {
     "data": {
      "text/html": [
       "<div>\n",
       "<style scoped>\n",
       "    .dataframe tbody tr th:only-of-type {\n",
       "        vertical-align: middle;\n",
       "    }\n",
       "\n",
       "    .dataframe tbody tr th {\n",
       "        vertical-align: top;\n",
       "    }\n",
       "\n",
       "    .dataframe thead th {\n",
       "        text-align: right;\n",
       "    }\n",
       "</style>\n",
       "<table border=\"1\" class=\"dataframe\">\n",
       "  <thead>\n",
       "    <tr style=\"text-align: right;\">\n",
       "      <th></th>\n",
       "      <th>genres</th>\n",
       "      <th>proportion</th>\n",
       "    </tr>\n",
       "  </thead>\n",
       "  <tbody>\n",
       "    <tr>\n",
       "      <th>14</th>\n",
       "      <td>(no genres listed)</td>\n",
       "      <td>0.901826</td>\n",
       "    </tr>\n",
       "    <tr>\n",
       "      <th>18</th>\n",
       "      <td>Action</td>\n",
       "      <td>0.652541</td>\n",
       "    </tr>\n",
       "    <tr>\n",
       "      <th>42</th>\n",
       "      <td>Action|Adventure</td>\n",
       "      <td>0.315272</td>\n",
       "    </tr>\n",
       "    <tr>\n",
       "      <th>157</th>\n",
       "      <td>Action|Adventure|Animation</td>\n",
       "      <td>0.065987</td>\n",
       "    </tr>\n",
       "    <tr>\n",
       "      <th>273</th>\n",
       "      <td>Action|Adventure|Animation|Children</td>\n",
       "      <td>0.029328</td>\n",
       "    </tr>\n",
       "    <tr>\n",
       "      <th>...</th>\n",
       "      <td>...</td>\n",
       "      <td>...</td>\n",
       "    </tr>\n",
       "    <tr>\n",
       "      <th>239</th>\n",
       "      <td>Thriller|War</td>\n",
       "      <td>0.032994</td>\n",
       "    </tr>\n",
       "    <tr>\n",
       "      <th>557</th>\n",
       "      <td>Thriller|Western</td>\n",
       "      <td>0.007332</td>\n",
       "    </tr>\n",
       "    <tr>\n",
       "      <th>103</th>\n",
       "      <td>War</td>\n",
       "      <td>0.117311</td>\n",
       "    </tr>\n",
       "    <tr>\n",
       "      <th>442</th>\n",
       "      <td>War|Western</td>\n",
       "      <td>0.010998</td>\n",
       "    </tr>\n",
       "    <tr>\n",
       "      <th>15</th>\n",
       "      <td>Western</td>\n",
       "      <td>0.788181</td>\n",
       "    </tr>\n",
       "  </tbody>\n",
       "</table>\n",
       "<p>1342 rows × 2 columns</p>\n",
       "</div>"
      ],
      "text/plain": [
       "                                  genres  proportion\n",
       "14                    (no genres listed)    0.901826\n",
       "18                                Action    0.652541\n",
       "42                      Action|Adventure    0.315272\n",
       "157           Action|Adventure|Animation    0.065987\n",
       "273  Action|Adventure|Animation|Children    0.029328\n",
       "..                                   ...         ...\n",
       "239                         Thriller|War    0.032994\n",
       "557                     Thriller|Western    0.007332\n",
       "103                                  War    0.117311\n",
       "442                          War|Western    0.010998\n",
       "15                               Western    0.788181\n",
       "\n",
       "[1342 rows x 2 columns]"
      ]
     },
     "execution_count": 29,
     "metadata": {},
     "output_type": "execute_result"
    }
   ],
   "source": [
    "df = (movies[\"genres\"].value_counts(normalize=True)*100).reset_index().sort_values(by=\"genres\", ascending=True)\n",
    "df"
   ]
  },
  {
   "cell_type": "markdown",
   "id": "d292353b",
   "metadata": {},
   "source": [
    "## Resumen estadistico .describe()"
   ]
  },
  {
   "cell_type": "markdown",
   "id": "7eef4a0a",
   "metadata": {},
   "source": [
    "Sobre las columnas numericas\n",
    "\n",
    "- count -> total\n",
    "- mean-> promedio\n",
    "- std -> desviación estándar\n",
    "- min -> valor minimo \n",
    "- max -> valor maximo"
   ]
  },
  {
   "cell_type": "code",
   "execution_count": 30,
   "id": "9e1044ac",
   "metadata": {},
   "outputs": [
    {
     "data": {
      "text/html": [
       "<div>\n",
       "<style scoped>\n",
       "    .dataframe tbody tr th:only-of-type {\n",
       "        vertical-align: middle;\n",
       "    }\n",
       "\n",
       "    .dataframe tbody tr th {\n",
       "        vertical-align: top;\n",
       "    }\n",
       "\n",
       "    .dataframe thead th {\n",
       "        text-align: right;\n",
       "    }\n",
       "</style>\n",
       "<table border=\"1\" class=\"dataframe\">\n",
       "  <thead>\n",
       "    <tr style=\"text-align: right;\">\n",
       "      <th></th>\n",
       "      <th>movieid</th>\n",
       "    </tr>\n",
       "  </thead>\n",
       "  <tbody>\n",
       "    <tr>\n",
       "      <th>count</th>\n",
       "      <td>27278.000000</td>\n",
       "    </tr>\n",
       "    <tr>\n",
       "      <th>mean</th>\n",
       "      <td>59855.480570</td>\n",
       "    </tr>\n",
       "    <tr>\n",
       "      <th>std</th>\n",
       "      <td>44429.314697</td>\n",
       "    </tr>\n",
       "    <tr>\n",
       "      <th>min</th>\n",
       "      <td>1.000000</td>\n",
       "    </tr>\n",
       "    <tr>\n",
       "      <th>25%</th>\n",
       "      <td>6931.250000</td>\n",
       "    </tr>\n",
       "    <tr>\n",
       "      <th>50%</th>\n",
       "      <td>68068.000000</td>\n",
       "    </tr>\n",
       "    <tr>\n",
       "      <th>75%</th>\n",
       "      <td>100293.250000</td>\n",
       "    </tr>\n",
       "    <tr>\n",
       "      <th>max</th>\n",
       "      <td>131262.000000</td>\n",
       "    </tr>\n",
       "  </tbody>\n",
       "</table>\n",
       "</div>"
      ],
      "text/plain": [
       "             movieid\n",
       "count   27278.000000\n",
       "mean    59855.480570\n",
       "std     44429.314697\n",
       "min         1.000000\n",
       "25%      6931.250000\n",
       "50%     68068.000000\n",
       "75%    100293.250000\n",
       "max    131262.000000"
      ]
     },
     "execution_count": 30,
     "metadata": {},
     "output_type": "execute_result"
    }
   ],
   "source": [
    "movies.describe()"
   ]
  },
  {
   "cell_type": "markdown",
   "id": "7c588865",
   "metadata": {},
   "source": [
    "Estadistica de los objetos => strings"
   ]
  },
  {
   "cell_type": "code",
   "execution_count": 31,
   "id": "1c75b772",
   "metadata": {},
   "outputs": [
    {
     "data": {
      "text/html": [
       "<div>\n",
       "<style scoped>\n",
       "    .dataframe tbody tr th:only-of-type {\n",
       "        vertical-align: middle;\n",
       "    }\n",
       "\n",
       "    .dataframe tbody tr th {\n",
       "        vertical-align: top;\n",
       "    }\n",
       "\n",
       "    .dataframe thead th {\n",
       "        text-align: right;\n",
       "    }\n",
       "</style>\n",
       "<table border=\"1\" class=\"dataframe\">\n",
       "  <thead>\n",
       "    <tr style=\"text-align: right;\">\n",
       "      <th></th>\n",
       "      <th>title</th>\n",
       "      <th>genres</th>\n",
       "    </tr>\n",
       "  </thead>\n",
       "  <tbody>\n",
       "    <tr>\n",
       "      <th>count</th>\n",
       "      <td>27278</td>\n",
       "      <td>27278</td>\n",
       "    </tr>\n",
       "    <tr>\n",
       "      <th>unique</th>\n",
       "      <td>27262</td>\n",
       "      <td>1342</td>\n",
       "    </tr>\n",
       "    <tr>\n",
       "      <th>top</th>\n",
       "      <td>Casanova (2005)</td>\n",
       "      <td>Drama</td>\n",
       "    </tr>\n",
       "    <tr>\n",
       "      <th>freq</th>\n",
       "      <td>2</td>\n",
       "      <td>4520</td>\n",
       "    </tr>\n",
       "  </tbody>\n",
       "</table>\n",
       "</div>"
      ],
      "text/plain": [
       "                  title genres\n",
       "count             27278  27278\n",
       "unique            27262   1342\n",
       "top     Casanova (2005)  Drama\n",
       "freq                  2   4520"
      ]
     },
     "execution_count": 31,
     "metadata": {},
     "output_type": "execute_result"
    }
   ],
   "source": [
    "categorical_data = movies.select_dtypes(include=\"object\")\n",
    "categorical_data.describe()"
   ]
  },
  {
   "cell_type": "code",
   "execution_count": 32,
   "id": "cab7e6e1",
   "metadata": {},
   "outputs": [
    {
     "data": {
      "text/html": [
       "<div>\n",
       "<style scoped>\n",
       "    .dataframe tbody tr th:only-of-type {\n",
       "        vertical-align: middle;\n",
       "    }\n",
       "\n",
       "    .dataframe tbody tr th {\n",
       "        vertical-align: top;\n",
       "    }\n",
       "\n",
       "    .dataframe thead th {\n",
       "        text-align: right;\n",
       "    }\n",
       "</style>\n",
       "<table border=\"1\" class=\"dataframe\">\n",
       "  <thead>\n",
       "    <tr style=\"text-align: right;\">\n",
       "      <th></th>\n",
       "      <th>movieid</th>\n",
       "    </tr>\n",
       "  </thead>\n",
       "  <tbody>\n",
       "    <tr>\n",
       "      <th>0</th>\n",
       "      <td>1</td>\n",
       "    </tr>\n",
       "    <tr>\n",
       "      <th>1</th>\n",
       "      <td>2</td>\n",
       "    </tr>\n",
       "    <tr>\n",
       "      <th>2</th>\n",
       "      <td>3</td>\n",
       "    </tr>\n",
       "    <tr>\n",
       "      <th>3</th>\n",
       "      <td>4</td>\n",
       "    </tr>\n",
       "    <tr>\n",
       "      <th>4</th>\n",
       "      <td>5</td>\n",
       "    </tr>\n",
       "    <tr>\n",
       "      <th>...</th>\n",
       "      <td>...</td>\n",
       "    </tr>\n",
       "    <tr>\n",
       "      <th>27273</th>\n",
       "      <td>131254</td>\n",
       "    </tr>\n",
       "    <tr>\n",
       "      <th>27274</th>\n",
       "      <td>131256</td>\n",
       "    </tr>\n",
       "    <tr>\n",
       "      <th>27275</th>\n",
       "      <td>131258</td>\n",
       "    </tr>\n",
       "    <tr>\n",
       "      <th>27276</th>\n",
       "      <td>131260</td>\n",
       "    </tr>\n",
       "    <tr>\n",
       "      <th>27277</th>\n",
       "      <td>131262</td>\n",
       "    </tr>\n",
       "  </tbody>\n",
       "</table>\n",
       "<p>27278 rows × 1 columns</p>\n",
       "</div>"
      ],
      "text/plain": [
       "       movieid\n",
       "0            1\n",
       "1            2\n",
       "2            3\n",
       "3            4\n",
       "4            5\n",
       "...        ...\n",
       "27273   131254\n",
       "27274   131256\n",
       "27275   131258\n",
       "27276   131260\n",
       "27277   131262\n",
       "\n",
       "[27278 rows x 1 columns]"
      ]
     },
     "execution_count": 32,
     "metadata": {},
     "output_type": "execute_result"
    }
   ],
   "source": [
    "numerical_data = movies.select_dtypes(include=\"int64\")\n",
    "numerical_data"
   ]
  },
  {
   "cell_type": "markdown",
   "id": "704648f4",
   "metadata": {},
   "source": [
    "Cambiar el tipo de dato a una columna"
   ]
  },
  {
   "cell_type": "code",
   "execution_count": 33,
   "id": "1125d79f",
   "metadata": {},
   "outputs": [
    {
     "data": {
      "text/plain": [
       "Index(['movieid', 'title', 'genres'], dtype='object')"
      ]
     },
     "execution_count": 33,
     "metadata": {},
     "output_type": "execute_result"
    }
   ],
   "source": [
    "movies.columns"
   ]
  },
  {
   "cell_type": "markdown",
   "id": "372e8a7f",
   "metadata": {},
   "source": [
    "## Limpiando la columna user_score"
   ]
  },
  {
   "cell_type": "code",
   "execution_count": 34,
   "id": "1a281a36",
   "metadata": {},
   "outputs": [
    {
     "data": {
      "text/plain": [
       "movieid\n",
       "1         1\n",
       "2         1\n",
       "3         1\n",
       "4         1\n",
       "5         1\n",
       "         ..\n",
       "131254    1\n",
       "131256    1\n",
       "131258    1\n",
       "131260    1\n",
       "131262    1\n",
       "Name: count, Length: 27278, dtype: int64"
      ]
     },
     "execution_count": 34,
     "metadata": {},
     "output_type": "execute_result"
    }
   ],
   "source": [
    "movies[\"movieid\"].value_counts(dropna=False)\n",
    "# tbd -> NAN not a number -> vacio -> no existe"
   ]
  },
  {
   "cell_type": "code",
   "execution_count": null,
   "id": "d6bfcfa5",
   "metadata": {},
   "outputs": [
    {
     "data": {
      "text/plain": [
       "User_Score\n",
       "NaN    9125\n",
       "7.8     324\n",
       "8       290\n",
       "8.2     282\n",
       "8.3     254\n",
       "       ... \n",
       "1.3       2\n",
       "1         2\n",
       "0.9       2\n",
       "0         1\n",
       "9.7       1\n",
       "Name: count, Length: 96, dtype: int64"
      ]
     },
     "execution_count": 82,
     "metadata": {},
     "output_type": "execute_result"
    }
   ],
   "source": [
    "# Reemplazar valores de columnas especificamente tbd o nan\n",
    "movies[\"User_Score\"] = movies[\"User_Score\"].replace(\"tbd\", np.nan)\n",
    "#np.nan -> es un valor formateado coreectamente como ausente\n",
    "movies[\"User_Score\"].value_counts(dropna=False)"
   ]
  },
  {
   "cell_type": "code",
   "execution_count": null,
   "id": "bc5dad41",
   "metadata": {},
   "outputs": [],
   "source": []
  }
 ],
 "metadata": {
  "kernelspec": {
   "display_name": "venv (3.13.7)",
   "language": "python",
   "name": "python3"
  },
  "language_info": {
   "codemirror_mode": {
    "name": "ipython",
    "version": 3
   },
   "file_extension": ".py",
   "mimetype": "text/x-python",
   "name": "python",
   "nbconvert_exporter": "python",
   "pygments_lexer": "ipython3",
   "version": "3.13.7"
  }
 },
 "nbformat": 4,
 "nbformat_minor": 5
}
